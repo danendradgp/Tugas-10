{
  "nbformat": 4,
  "nbformat_minor": 0,
  "metadata": {
    "colab": {
      "name": "Untitled0.ipynb",
      "provenance": [],
      "authorship_tag": "ABX9TyPwsWWwLgps5hVo/LMFc/jx",
      "include_colab_link": true
    },
    "kernelspec": {
      "name": "python3",
      "display_name": "Python 3"
    }
  },
  "cells": [
    {
      "cell_type": "markdown",
      "metadata": {
        "id": "view-in-github",
        "colab_type": "text"
      },
      "source": [
        "<a href=\"https://colab.research.google.com/github/danendradgp/Tugas-10/blob/main/Tugas%2010%20Python.ipynb\" target=\"_parent\"><img src=\"https://colab.research.google.com/assets/colab-badge.svg\" alt=\"Open In Colab\"/></a>"
      ]
    },
    {
      "cell_type": "code",
      "metadata": {
        "colab": {
          "base_uri": "https://localhost:8080/"
        },
        "id": "4w_d71PwIBmd",
        "outputId": "3a8226fb-739e-43e5-84b7-ca4abecdda5d"
      },
      "source": [
        "from google.colab import drive\n",
        "drive.mount('/content/drive')"
      ],
      "execution_count": 1,
      "outputs": [
        {
          "output_type": "stream",
          "text": [
            "Mounted at /content/drive\n"
          ],
          "name": "stdout"
        }
      ]
    },
    {
      "cell_type": "code",
      "metadata": {
        "colab": {
          "base_uri": "https://localhost:8080/"
        },
        "id": "N4mlKr8NKwNW",
        "outputId": "66372f56-9441-469b-c99d-e2c44a33d485"
      },
      "source": [
        "cd /content/drive/MyDrive/Dataset"
      ],
      "execution_count": 2,
      "outputs": [
        {
          "output_type": "stream",
          "text": [
            "/content/drive/MyDrive/Dataset\n"
          ],
          "name": "stdout"
        }
      ]
    },
    {
      "cell_type": "code",
      "metadata": {
        "colab": {
          "base_uri": "https://localhost:8080/"
        },
        "id": "IdH-1rY8LANw",
        "outputId": "c77c3740-d151-412c-d985-91f528e1a6a8"
      },
      "source": [
        "ls"
      ],
      "execution_count": 3,
      "outputs": [
        {
          "output_type": "stream",
          "text": [
            "\u001b[0m\u001b[01;34mTransportation\u001b[0m/\n"
          ],
          "name": "stdout"
        }
      ]
    },
    {
      "cell_type": "code",
      "metadata": {
        "id": "UqpIleVZLBFA"
      },
      "source": [
        "from keras.models import Sequential\n",
        "from keras.layers.convolutional import Conv2D\n",
        "from keras.layers.convolutional import MaxPooling2D\n",
        "from keras.layers.core import Activation\n",
        "from keras.layers.core import Flatten\n",
        "from keras.layers.core import Dense\n",
        "from keras.optimizers import Adam\n",
        "from sklearn.preprocessing import LabelBinarizer\n",
        "from sklearn.model_selection import train_test_split\n",
        "from sklearn.metrics import classification_report\n",
        "from PIL import Image\n",
        "from imutils import paths\n",
        "import numpy as np\n",
        "import os"
      ],
      "execution_count": 5,
      "outputs": []
    },
    {
      "cell_type": "code",
      "metadata": {
        "colab": {
          "base_uri": "https://localhost:8080/"
        },
        "id": "j40A6I2uLGdP",
        "outputId": "49d732ff-5685-441f-810f-8d0f62061b00"
      },
      "source": [
        "print(\"[INFO] loading images...\")\n",
        "imagePaths = paths.list_images(\"Transportation\")\n",
        "data = []\n",
        "labels = []"
      ],
      "execution_count": 7,
      "outputs": [
        {
          "output_type": "stream",
          "text": [
            "[INFO] loading images...\n"
          ],
          "name": "stdout"
        }
      ]
    },
    {
      "cell_type": "code",
      "metadata": {
        "id": "kE_xs8EFLPsk"
      },
      "source": [
        "for imagePath in imagePaths:\n",
        "\t# load the input image from disk, resize it to 64x64 pixels, scale\n",
        "\t# the pixel intensities to the range [0, 1], and then update our\n",
        "\t# images list\n",
        "\timage = Image.open(imagePath)\n",
        "\timage = np.array(image.resize((120, 120))) / 255.0\n",
        "\tdata.append(image)\n",
        "\n",
        "\t# extract the class label from the file path and update the\n",
        "\t# labels list\n",
        "\tlabel = imagePath.split(os.path.sep)[-2]\n",
        "\tlabels.append(label)"
      ],
      "execution_count": 8,
      "outputs": []
    },
    {
      "cell_type": "code",
      "metadata": {
        "colab": {
          "base_uri": "https://localhost:8080/"
        },
        "id": "ryn_ST1oLpDY",
        "outputId": "28e47600-3107-4d03-dbab-bb280b4de1ea"
      },
      "source": [
        "print(labels)"
      ],
      "execution_count": 9,
      "outputs": [
        {
          "output_type": "stream",
          "text": [
            "['motorcycle', 'motorcycle', 'motorcycle', 'motorcycle', 'motorcycle', 'motorcycle', 'motorcycle', 'motorcycle', 'motorcycle', 'motorcycle', 'boat', 'boat', 'boat', 'boat', 'boat', 'boat', 'boat', 'boat', 'boat', 'boat', 'cars', 'cars', 'cars', 'cars', 'cars', 'cars', 'cars', 'cars', 'cars', 'cars']\n"
          ],
          "name": "stdout"
        }
      ]
    },
    {
      "cell_type": "code",
      "metadata": {
        "id": "cIDO_YPBLxeS"
      },
      "source": [
        "lb = LabelBinarizer()\n",
        "labels = lb.fit_transform(labels)"
      ],
      "execution_count": 10,
      "outputs": []
    },
    {
      "cell_type": "code",
      "metadata": {
        "id": "Fb0pe5QiLvLW"
      },
      "source": [
        "print(labels)"
      ],
      "execution_count": null,
      "outputs": []
    },
    {
      "cell_type": "code",
      "metadata": {
        "colab": {
          "base_uri": "https://localhost:8080/"
        },
        "id": "0hsNw-S4L3IQ",
        "outputId": "fc29f43f-04cd-4e64-cbea-458b60843f81"
      },
      "source": [
        "(trainX, testX, trainY, testY) = train_test_split(np.array(data),\tnp.array(labels), test_size=0.25)\n",
        "print(trainX.shape)\n",
        "print(testX.shape)"
      ],
      "execution_count": 12,
      "outputs": [
        {
          "output_type": "stream",
          "text": [
            "(22, 120, 120, 3)\n",
            "(8, 120, 120, 3)\n"
          ],
          "name": "stdout"
        }
      ]
    },
    {
      "cell_type": "code",
      "metadata": {
        "id": "9tFWsVQqMFb5"
      },
      "source": [
        "from keras.models import Sequential\n",
        "from keras.layers.core import Flatten\n",
        "from keras.layers.core import Dense\n",
        "\n",
        "model = Sequential(\n",
        "\t[\n",
        "\t\tFlatten(input_shape=(120*120*3,)),\n",
        "\t\tDense(100, activation=\"relu\", name=\"layer1\"),\n",
        "\t\tDense(16, activation=\"relu\", name=\"layer2\"),\n",
        "\t\tDense(16, activation=\"relu\", name=\"layer3\"),\n",
        "\t\tDense(3, activation = \"softmax\", name=\"layer4\"),\n",
        "\t]\n",
        ")"
      ],
      "execution_count": 16,
      "outputs": []
    },
    {
      "cell_type": "code",
      "metadata": {
        "colab": {
          "base_uri": "https://localhost:8080/"
        },
        "id": "lHEwf1EfMPry",
        "outputId": "774ec4b0-33f4-4378-c849-db11abddb0cf"
      },
      "source": [
        "model.summary()"
      ],
      "execution_count": 17,
      "outputs": [
        {
          "output_type": "stream",
          "text": [
            "Model: \"sequential_1\"\n",
            "_________________________________________________________________\n",
            "Layer (type)                 Output Shape              Param #   \n",
            "=================================================================\n",
            "flatten_1 (Flatten)          (None, 43200)             0         \n",
            "_________________________________________________________________\n",
            "layer1 (Dense)               (None, 100)               4320100   \n",
            "_________________________________________________________________\n",
            "layer2 (Dense)               (None, 16)                1616      \n",
            "_________________________________________________________________\n",
            "layer3 (Dense)               (None, 16)                272       \n",
            "_________________________________________________________________\n",
            "layer4 (Dense)               (None, 3)                 51        \n",
            "=================================================================\n",
            "Total params: 4,322,039\n",
            "Trainable params: 4,322,039\n",
            "Non-trainable params: 0\n",
            "_________________________________________________________________\n"
          ],
          "name": "stdout"
        }
      ]
    },
    {
      "cell_type": "code",
      "metadata": {
        "colab": {
          "base_uri": "https://localhost:8080/"
        },
        "id": "NHUZDi9TMWFi",
        "outputId": "17acd7c1-72bf-4c7f-829e-ceb5ed29b703"
      },
      "source": [
        "print(\"[INFO] training network...\")\n",
        "opt = Adam(lr=1e-3, decay=1e-3 / 50)\n",
        "model.compile(loss=\"categorical_crossentropy\", optimizer=opt,\n",
        "\tmetrics=[\"accuracy\"])\n",
        "H = model.fit(trainX, trainY, validation_data=(testX, testY), epochs=30, batch_size=10)"
      ],
      "execution_count": 18,
      "outputs": [
        {
          "output_type": "stream",
          "text": [
            "[INFO] training network...\n",
            "Epoch 1/30\n",
            "WARNING:tensorflow:Model was constructed with shape (None, 43200) for input Tensor(\"flatten_1_input:0\", shape=(None, 43200), dtype=float32), but it was called on an input with incompatible shape (None, 120, 120, 3).\n",
            "WARNING:tensorflow:Model was constructed with shape (None, 43200) for input Tensor(\"flatten_1_input:0\", shape=(None, 43200), dtype=float32), but it was called on an input with incompatible shape (None, 120, 120, 3).\n",
            "1/3 [=========>....................] - ETA: 0s - loss: 1.0534 - accuracy: 0.3000WARNING:tensorflow:Model was constructed with shape (None, 43200) for input Tensor(\"flatten_1_input:0\", shape=(None, 43200), dtype=float32), but it was called on an input with incompatible shape (None, 120, 120, 3).\n",
            "3/3 [==============================] - 0s 75ms/step - loss: 3.8431 - accuracy: 0.2727 - val_loss: 5.3214 - val_accuracy: 0.2500\n",
            "Epoch 2/30\n",
            "3/3 [==============================] - 0s 22ms/step - loss: 3.1282 - accuracy: 0.3636 - val_loss: 1.3710 - val_accuracy: 0.5000\n",
            "Epoch 3/30\n",
            "3/3 [==============================] - 0s 19ms/step - loss: 0.9943 - accuracy: 0.6818 - val_loss: 2.2050 - val_accuracy: 0.3750\n",
            "Epoch 4/30\n",
            "3/3 [==============================] - 0s 19ms/step - loss: 1.6263 - accuracy: 0.5455 - val_loss: 5.6081 - val_accuracy: 0.3750\n",
            "Epoch 5/30\n",
            "3/3 [==============================] - 0s 19ms/step - loss: 1.8408 - accuracy: 0.6818 - val_loss: 5.6992 - val_accuracy: 0.5000\n",
            "Epoch 6/30\n",
            "3/3 [==============================] - 0s 20ms/step - loss: 0.5724 - accuracy: 0.8636 - val_loss: 1.8105 - val_accuracy: 0.8750\n",
            "Epoch 7/30\n",
            "3/3 [==============================] - 0s 20ms/step - loss: 0.3753 - accuracy: 0.9545 - val_loss: 2.1833 - val_accuracy: 0.6250\n",
            "Epoch 8/30\n",
            "3/3 [==============================] - 0s 22ms/step - loss: 0.3587 - accuracy: 0.8636 - val_loss: 2.4327 - val_accuracy: 0.7500\n",
            "Epoch 9/30\n",
            "3/3 [==============================] - 0s 21ms/step - loss: 0.1031 - accuracy: 0.9091 - val_loss: 2.0918 - val_accuracy: 0.8750\n",
            "Epoch 10/30\n",
            "3/3 [==============================] - 0s 21ms/step - loss: 0.0307 - accuracy: 1.0000 - val_loss: 2.3261 - val_accuracy: 0.6250\n",
            "Epoch 11/30\n",
            "3/3 [==============================] - 0s 22ms/step - loss: 0.0273 - accuracy: 1.0000 - val_loss: 2.5211 - val_accuracy: 0.7500\n",
            "Epoch 12/30\n",
            "3/3 [==============================] - 0s 20ms/step - loss: 0.0109 - accuracy: 1.0000 - val_loss: 2.7215 - val_accuracy: 0.6250\n",
            "Epoch 13/30\n",
            "3/3 [==============================] - 0s 21ms/step - loss: 0.0113 - accuracy: 1.0000 - val_loss: 2.6793 - val_accuracy: 0.7500\n",
            "Epoch 14/30\n",
            "3/3 [==============================] - 0s 20ms/step - loss: 0.0060 - accuracy: 1.0000 - val_loss: 2.6098 - val_accuracy: 0.7500\n",
            "Epoch 15/30\n",
            "3/3 [==============================] - 0s 21ms/step - loss: 0.0035 - accuracy: 1.0000 - val_loss: 2.5366 - val_accuracy: 0.7500\n",
            "Epoch 16/30\n",
            "3/3 [==============================] - 0s 20ms/step - loss: 0.0022 - accuracy: 1.0000 - val_loss: 2.4781 - val_accuracy: 0.7500\n",
            "Epoch 17/30\n",
            "3/3 [==============================] - 0s 20ms/step - loss: 0.0016 - accuracy: 1.0000 - val_loss: 2.4311 - val_accuracy: 0.7500\n",
            "Epoch 18/30\n",
            "3/3 [==============================] - 0s 20ms/step - loss: 0.0012 - accuracy: 1.0000 - val_loss: 2.3954 - val_accuracy: 0.7500\n",
            "Epoch 19/30\n",
            "3/3 [==============================] - 0s 21ms/step - loss: 0.0010 - accuracy: 1.0000 - val_loss: 2.3675 - val_accuracy: 0.6250\n",
            "Epoch 20/30\n",
            "3/3 [==============================] - 0s 20ms/step - loss: 9.3466e-04 - accuracy: 1.0000 - val_loss: 2.3447 - val_accuracy: 0.6250\n",
            "Epoch 21/30\n",
            "3/3 [==============================] - 0s 21ms/step - loss: 8.6042e-04 - accuracy: 1.0000 - val_loss: 2.3250 - val_accuracy: 0.6250\n",
            "Epoch 22/30\n",
            "3/3 [==============================] - 0s 22ms/step - loss: 7.6938e-04 - accuracy: 1.0000 - val_loss: 2.3086 - val_accuracy: 0.6250\n",
            "Epoch 23/30\n",
            "3/3 [==============================] - 0s 20ms/step - loss: 7.2067e-04 - accuracy: 1.0000 - val_loss: 2.2931 - val_accuracy: 0.7500\n",
            "Epoch 24/30\n",
            "3/3 [==============================] - 0s 21ms/step - loss: 6.6017e-04 - accuracy: 1.0000 - val_loss: 2.2778 - val_accuracy: 0.7500\n",
            "Epoch 25/30\n",
            "3/3 [==============================] - 0s 21ms/step - loss: 6.0595e-04 - accuracy: 1.0000 - val_loss: 2.2651 - val_accuracy: 0.7500\n",
            "Epoch 26/30\n",
            "3/3 [==============================] - 0s 20ms/step - loss: 5.7140e-04 - accuracy: 1.0000 - val_loss: 2.2530 - val_accuracy: 0.7500\n",
            "Epoch 27/30\n",
            "3/3 [==============================] - 0s 20ms/step - loss: 5.4250e-04 - accuracy: 1.0000 - val_loss: 2.2408 - val_accuracy: 0.7500\n",
            "Epoch 28/30\n",
            "3/3 [==============================] - 0s 22ms/step - loss: 5.1253e-04 - accuracy: 1.0000 - val_loss: 2.2306 - val_accuracy: 0.7500\n",
            "Epoch 29/30\n",
            "3/3 [==============================] - 0s 21ms/step - loss: 4.8879e-04 - accuracy: 1.0000 - val_loss: 2.2215 - val_accuracy: 0.7500\n",
            "Epoch 30/30\n",
            "3/3 [==============================] - 0s 21ms/step - loss: 4.7004e-04 - accuracy: 1.0000 - val_loss: 2.2133 - val_accuracy: 0.7500\n"
          ],
          "name": "stdout"
        }
      ]
    },
    {
      "cell_type": "code",
      "metadata": {
        "colab": {
          "base_uri": "https://localhost:8080/",
          "height": 590
        },
        "id": "PrQP7BEeNGFw",
        "outputId": "229a362c-3ea8-45f1-dc6e-cb2f619d0ebd"
      },
      "source": [
        "import matplotlib.pyplot as plt\n",
        "print(H.history.keys())\n",
        "# summarize history for accuracy\n",
        "plt.plot(H.history['accuracy'])\n",
        "plt.plot(H.history['val_accuracy'])\n",
        "plt.title('model accuracy')\n",
        "plt.ylabel('accuracy')\n",
        "plt.xlabel('epoch')\n",
        "plt.legend(['train', 'test'], loc='upper left')\n",
        "plt.show()\n",
        "# summarize history for loss\n",
        "plt.plot(H.history['loss'])\n",
        "plt.plot(H.history['val_loss'])\n",
        "plt.title('model loss')\n",
        "plt.ylabel('loss')\n",
        "plt.xlabel('epoch')\n",
        "plt.legend(['train', 'test'], loc='upper left')\n",
        "plt.show()"
      ],
      "execution_count": 19,
      "outputs": [
        {
          "output_type": "stream",
          "text": [
            "dict_keys(['loss', 'accuracy', 'val_loss', 'val_accuracy'])\n"
          ],
          "name": "stdout"
        },
        {
          "output_type": "display_data",
          "data": {
            "image/png": "[encoded data removed]",
            "text/plain": [
              "<Figure size 432x288 with 1 Axes>"
            ]
          },
          "metadata": {
            "tags": [],
            "needs_background": "light"
          }
        },
        {
          "output_type": "display_data",
          "data": {
            "image/png": "[encoded data removed]",
            "text/plain": [
              "<Figure size 432x288 with 1 Axes>"
            ]
          },
          "metadata": {
            "tags": [],
            "needs_background": "light"
          }
        }
      ]
    },
    {
      "cell_type": "code",
      "metadata": {
        "colab": {
          "base_uri": "https://localhost:8080/"
        },
        "id": "_3_gG8Y_NWNm",
        "outputId": "3b355140-de25-4e4d-836e-34cc04038c51"
      },
      "source": [
        "print(\"[INFO] evaluating network...\")\n",
        "predictions = model.predict(testX, batch_size=5)\n",
        "print(classification_report(testY.argmax(axis=1),\n",
        "\tpredictions.argmax(axis=1), target_names=lb.classes_))"
      ],
      "execution_count": 20,
      "outputs": [
        {
          "output_type": "stream",
          "text": [
            "[INFO] evaluating network...\n",
            "WARNING:tensorflow:Model was constructed with shape (None, 43200) for input Tensor(\"flatten_1_input:0\", shape=(None, 43200), dtype=float32), but it was called on an input with incompatible shape (None, 120, 120, 3).\n",
            "              precision    recall  f1-score   support\n",
            "\n",
            "        boat       0.67      1.00      0.80         2\n",
            "        cars       0.67      1.00      0.80         2\n",
            "  motorcycle       1.00      0.50      0.67         4\n",
            "\n",
            "    accuracy                           0.75         8\n",
            "   macro avg       0.78      0.83      0.76         8\n",
            "weighted avg       0.83      0.75      0.73         8\n",
            "\n"
          ],
          "name": "stdout"
        }
      ]
    }
  ]
}